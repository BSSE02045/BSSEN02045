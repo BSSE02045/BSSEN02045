{
 "cells": [
  {
   "cell_type": "markdown",
   "id": "57bec445-f0dc-474b-a7f5-11596d3e96ce",
   "metadata": {},
   "source": [
    "## 1st Program"
   ]
  },
  {
   "cell_type": "code",
   "execution_count": null,
   "metadata": {},
   "outputs": [],
   "source": []
  },
  {
   "cell_type": "code",
   "execution_count": null,
   "id": "422e8a4a-c4f8-4d3b-9e85-279dc0a46d5d",
   "metadata": {},
   "outputs": [],
   "source": [
    "first_number=int(input(\"Enter first number\"))\n",
    "second_number=int(input(\"Enter second number\"))\n",
    "if first_number*second_number <= 1000:\n",
    "    print(first_number*second_number)\n",
    "else:\n",
    "    print(first_number + second_number)"
   ]
  },
  {
   "cell_type": "markdown",
   "id": "7ffe3d3e-b55c-4341-81bb-602701317cd9",
   "metadata": {},
   "source": [
    "## 2nd Program"
   ]
  },
  {
   "cell_type": "code",
   "execution_count": null,
   "id": "5ff274c9-3ea5-4a5d-ac5c-032e419eb342",
   "metadata": {},
   "outputs": [],
   "source": [
    "for i in range(10):\n",
    "    previous_number=i-1\n",
    "    sum= previous_number+i\n",
    "    print(f'previous number{previous_number} current number {i} sum {sum} ')"
   ]
  },
  {
   "cell_type": "markdown",
   "id": "6ee84674-5c3b-47e1-92f9-3f49815638ae",
   "metadata": {},
   "source": [
    "## 3rd Program"
   ]
  },
  {
   "cell_type": "code",
   "execution_count": null,
   "id": "6d19b029-60ee-4a37-9e7a-6bb26b59fe7f",
   "metadata": {},
   "outputs": [],
   "source": [
    "str = input(\"Enter a string: \")\n",
    "print(\"Characters at even indices:\", str[::2])"
   ]
  },
  {
   "cell_type": "markdown",
   "id": "b7628b71-b125-42fa-b00f-fd39d4cf1577",
   "metadata": {},
   "source": [
    "## 4th Program"
   ]
  },
  {
   "cell_type": "code",
   "execution_count": null,
   "id": "b27489be-fa39-4f13-94bd-858d1b460ca3",
   "metadata": {},
   "outputs": [],
   "source": [
    "user_list = input(\"Enter a list of numbers\")\n",
    "number_list = [int(num) for num in user_list.split(',')]\n",
    "if number_list[0] == number_list[-1]:\n",
    "    print(\"The first and last numbers are the same\")\n",
    "else:\n",
    "    print(\"The first and last numbers are different\")\n"
   ]
  },
  {
   "cell_type": "markdown",
   "id": "55f9311c-0d76-4949-8ce1-871514615f4c",
   "metadata": {},
   "source": [
    "## 5th Program"
   ]
  },
  {
   "cell_type": "code",
   "execution_count": null,
   "id": "d37ad37b-bdc8-486d-9be9-3c6344714e31",
   "metadata": {},
   "outputs": [],
   "source": [
    "list_of_number=[10,12,17,15,20,23,25]\n",
    "for i in list_of_number:\n",
    "    if i%5==0:\n",
    "        print(i)"
   ]
  },
  {
   "cell_type": "markdown",
   "id": "93a552cb-7322-489a-a328-ac17a766e4dd",
   "metadata": {},
   "source": [
    "## 6th Program "
   ]
  },
  {
   "cell_type": "code",
   "execution_count": null,
   "id": "1190ade2-1df7-4a74-883f-44e766ee0193",
   "metadata": {},
   "outputs": [],
   "source": [
    "for i in range(6):\n",
    "    print(f'{i}'*i)"
   ]
  },
  {
   "cell_type": "markdown",
   "id": "8d7bd6ff-550b-4bcc-bb03-c640155ac242",
   "metadata": {},
   "source": [
    "## 7th Program"
   ]
  },
  {
   "cell_type": "code",
   "execution_count": null,
   "id": "28c803c6-5765-4540-bc55-7ae81733d9c7",
   "metadata": {},
   "outputs": [],
   "source": [
    "user_input = int(input(\"Enter a number: \"))\n",
    "str_number = str(user_input)\n",
    "if str_number == str_number[::-1]:\n",
    "    print(f\"{user_input} is a palindrome.\")\n",
    "else:\n",
    "    print(f\"{user_input} is not a palindrome.\")\n"
   ]
  },
  {
   "cell_type": "markdown",
   "id": "45b4bb72-051d-4a18-9566-d1547a97e10a",
   "metadata": {},
   "source": [
    "## 8th program"
   ]
  },
  {
   "cell_type": "code",
   "execution_count": null,
   "id": "2ab0a7a5-8457-4989-aa08-f71a2190f73f",
   "metadata": {},
   "outputs": [],
   "source": [
    "user_list_1= input(\"enter first list of numbers\")\n",
    "user_list_2= input(\"enter second list of numbers\")\n",
    "list_1= [int(x)for x in user_list_1.split(',')]\n",
    "list_2= [int(y)for y in user_list_2.split(',')]\n",
    "result_list=[]\n",
    "for i in list_1:\n",
    "    if i%2!=0:\n",
    "        result_list.append(i)\n",
    "for j in list_2:\n",
    "    if j%2==0:\n",
    "        result_list.append(j)\n",
    "print(result_list)        \n",
    "    \n"
   ]
  },
  {
   "cell_type": "markdown",
   "id": "d2048b03-bddb-4f24-b641-3d5eb1067a52",
   "metadata": {},
   "source": [
    "## 9th Program"
   ]
  },
  {
   "cell_type": "code",
   "execution_count": null,
   "id": "ed702eb7-7002-4fa3-8a0b-6b3d2c3e2307",
   "metadata": {},
   "outputs": [],
   "source": [
    "list=[5,4,3,2,1]\n",
    "for i in list :\n",
    "    print(\"*\"*i)"
   ]
  },
  {
   "cell_type": "markdown",
   "id": "186ea268-d584-4619-854c-764e08e03169",
   "metadata": {},
   "source": [
    "## 10th Program"
   ]
  },
  {
   "cell_type": "code",
   "execution_count": null,
   "id": "43aab3fe-778d-4be0-b0d3-dab6823166ad",
   "metadata": {},
   "outputs": [],
   "source": [
    "for x in range(1,11):\n",
    "    for y in range(1,11):\n",
    "        print(f'{x} * {y} = {x*y}')"
   ]
  },
  {
   "cell_type": "code",
   "execution_count": null,
   "id": "990c171b-ae5a-4401-95f6-692bfef0586a",
   "metadata": {},
   "outputs": [],
   "source": []
  }
 ],
 "metadata": {
  "kernelspec": {
   "display_name": "Python 3 (ipykernel)",
   "language": "python",
   "name": "python3"
  },
  "language_info": {
   "codemirror_mode": {
    "name": "ipython",
    "version": 3
   },
   "file_extension": ".py",
   "mimetype": "text/x-python",
   "name": "python",
   "nbconvert_exporter": "python",
   "pygments_lexer": "ipython3",
   "version": "3.12.0"
  }
 },
 "nbformat": 4,
 "nbformat_minor": 5
}
